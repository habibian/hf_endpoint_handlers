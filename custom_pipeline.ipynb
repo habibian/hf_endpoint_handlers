{
  "nbformat": 4,
  "nbformat_minor": 0,
  "metadata": {
    "colab": {
      "provenance": [],
      "include_colab_link": true
    },
    "kernelspec": {
      "name": "python3",
      "display_name": "Python 3"
    },
    "language_info": {
      "name": "python"
    }
  },
  "cells": [
    {
      "cell_type": "markdown",
      "metadata": {
        "id": "view-in-github",
        "colab_type": "text"
      },
      "source": [
        "<a href=\"https://colab.research.google.com/github/habibian/hf_endpoint_handlers/blob/main/custom_pipeline.ipynb\" target=\"_parent\"><img src=\"https://colab.research.google.com/assets/colab-badge.svg\" alt=\"Open In Colab\"/></a>"
      ]
    },
    {
      "cell_type": "code",
      "execution_count": null,
      "metadata": {
        "id": "0ey1Yo9BgGa7"
      },
      "outputs": [],
      "source": [
        "# install git-lfs to interact with the repository\n",
        "!sudo apt-get update\n",
        "!sudo apt-get install git-lfs\n",
        "# install transformers (not needed since it is installed by default in the container)\n",
        "! pip install transformers[sklearn,sentencepiece,audio,vision]\n"
      ]
    },
    {
      "cell_type": "code",
      "source": [
        "!git lfs install\n",
        "!git clone https://huggingface.co/philschmid/distilbert-base-uncased-emotion\n"
      ],
      "metadata": {
        "colab": {
          "base_uri": "https://localhost:8080/"
        },
        "id": "uAz1f0czgrs6",
        "outputId": "12712039-d467-4a0c-b546-5528ca5100de"
      },
      "execution_count": null,
      "outputs": [
        {
          "output_type": "stream",
          "name": "stdout",
          "text": [
            "Error: Failed to call git rev-parse --git-dir --show-toplevel: \"fatal: not a git repository (or any of the parent directories): .git\\n\"\n",
            "Git LFS initialized.\n",
            "Cloning into 'distilbert-base-uncased-emotion'...\n",
            "remote: Enumerating objects: 49, done.\u001b[K\n",
            "remote: Counting objects: 100% (49/49), done.\u001b[K\n",
            "remote: Compressing objects: 100% (48/48), done.\u001b[K\n",
            "remote: Total 49 (delta 17), reused 0 (delta 0), pack-reused 0\u001b[K\n",
            "Unpacking objects: 100% (49/49), done.\n"
          ]
        }
      ]
    },
    {
      "cell_type": "code",
      "source": [
        "# setup cli with token\n",
        "!huggingface-cli login\n",
        "!git config --global credential.helper store\n",
        "\n"
      ],
      "metadata": {
        "id": "XuJcKbt3iY9J"
      },
      "execution_count": null,
      "outputs": []
    },
    {
      "cell_type": "code",
      "source": [
        "%cd /content/distilbert-base-uncased-emotion/"
      ],
      "metadata": {
        "colab": {
          "base_uri": "https://localhost:8080/"
        },
        "id": "QvpAZsRTjIk_",
        "outputId": "2abe06b8-450f-48e7-a047-fa4e6f207e91"
      },
      "execution_count": null,
      "outputs": [
        {
          "output_type": "stream",
          "name": "stdout",
          "text": [
            "/content/distilbert-base-uncased-emotion\n"
          ]
        }
      ]
    },
    {
      "cell_type": "code",
      "source": [
        "%%writefile pipeline.py\n",
        "from typing import Dict, List, Any\n",
        "\n",
        "\n",
        "class PreTrainedPipeline():\n",
        "    def __init__(self, path=\"\"):\n",
        "        # Preload all the elements you are going to need at inference.\n",
        "        # pseudo:\n",
        "        # self.model= load_model(path)\n",
        "\n",
        "    def __call__(self, data: Dict[str, Any]) -> List[Dict[str, Any]]:\n",
        "        \"\"\"\n",
        "       data args:\n",
        "            inputs (:obj: `str` | `PIL.Image` | `np.array`)\n",
        "            kwargs\n",
        "      Return:\n",
        "            A :obj:`list` | `dict`: will be serialized and returned\n",
        "        \"\"\"\n",
        "\n",
        "        # pseudo\n",
        "        # self.model(input)"
      ],
      "metadata": {
        "id": "8S9pOccXkMdU"
      },
      "execution_count": null,
      "outputs": []
    },
    {
      "cell_type": "code",
      "source": [
        "!echo \"holidays\" >> requirements.txt\n",
        "!pip install -r requirements.txt"
      ],
      "metadata": {
        "colab": {
          "base_uri": "https://localhost:8080/"
        },
        "id": "845fqJi3n3_N",
        "outputId": "32b9761f-b408-4b1d-a24d-bfae88bfc082"
      },
      "execution_count": null,
      "outputs": [
        {
          "output_type": "stream",
          "name": "stdout",
          "text": [
            "Looking in indexes: https://pypi.org/simple, https://us-python.pkg.dev/colab-wheels/public/simple/\n",
            "Requirement already satisfied: holidays in /usr/local/lib/python3.7/dist-packages (from -r requirements.txt (line 1)) (0.14.2)\n",
            "Requirement already satisfied: hijri-converter in /usr/local/lib/python3.7/dist-packages (from holidays->-r requirements.txt (line 1)) (2.2.4)\n",
            "Requirement already satisfied: korean-lunar-calendar in /usr/local/lib/python3.7/dist-packages (from holidays->-r requirements.txt (line 1)) (0.2.1)\n",
            "Requirement already satisfied: python-dateutil in /usr/local/lib/python3.7/dist-packages (from holidays->-r requirements.txt (line 1)) (2.8.2)\n",
            "Requirement already satisfied: convertdate>=2.3.0 in /usr/local/lib/python3.7/dist-packages (from holidays->-r requirements.txt (line 1)) (2.4.0)\n",
            "Requirement already satisfied: pymeeus<=1,>=0.3.13 in /usr/local/lib/python3.7/dist-packages (from convertdate>=2.3.0->holidays->-r requirements.txt (line 1)) (0.5.11)\n",
            "Requirement already satisfied: six>=1.5 in /usr/local/lib/python3.7/dist-packages (from python-dateutil->holidays->-r requirements.txt (line 1)) (1.15.0)\n"
          ]
        }
      ]
    },
    {
      "cell_type": "code",
      "source": [
        "%%writefile pipeline.py\n",
        "from typing import Dict, List, Any\n",
        "from transformers import pipeline\n",
        "import holidays\n",
        "\n",
        "class PreTrainedPipeline():\n",
        "    def __init__(self, path=\"\"):\n",
        "        self.pipeline = pipeline(\"text-classification\",model=path)\n",
        "        self.holidays = holidays.US()\n",
        "\n",
        "    def __call__(self, data: Dict[str, Any]) -> List[Dict[str, Any]]:\n",
        "        \"\"\"\n",
        "       data args:\n",
        "            inputs (:obj: `str`)\n",
        "            date (:obj: `str`)\n",
        "      Return:\n",
        "            A :obj:`list` | `dict`: will be serialized and returned\n",
        "        \"\"\"\n",
        "        # get inputs\n",
        "        inputs = data.pop(\"inputs\",data)\n",
        "        date = data.pop(\"date\", None)\n",
        "\n",
        "        # check if date exists and if it is holiday\n",
        "        if date is not None and date in self.holidays:\n",
        "          return [{\"label\": \"happy\", \"score\": 1}]\n",
        "\n",
        "\n",
        "        # run normal prediction\n",
        "        prediction = self.pipeline(inputs)\n",
        "        return prediction"
      ],
      "metadata": {
        "colab": {
          "base_uri": "https://localhost:8080/"
        },
        "id": "8ZYC04A0n6nE",
        "outputId": "dcb72152-1e5a-46d4-b9be-463272dafaa8"
      },
      "execution_count": null,
      "outputs": [
        {
          "output_type": "stream",
          "name": "stdout",
          "text": [
            "Overwriting pipeline.py\n"
          ]
        }
      ]
    },
    {
      "cell_type": "code",
      "source": [
        "from pipeline import PreTrainedPipeline\n",
        "\n",
        "# init pipeline\n",
        "my_pipe = PreTrainedPipeline(path=\".\")\n",
        "\n",
        "# prepare sample playoad\n",
        "non_holiday_payload = {\"inputs\": \"I am quite excited how this will turn out\", \"date\": \"2022-08-08\"}\n",
        "holiday_payload = {\"inputs\": \"Today is a though day\", \"date\": \"2022-07-04\"}\n",
        "\n",
        "# test the pipeline\n",
        "non_holiday_pred=my_pipe(non_holiday_payload)\n",
        "holiday_payload=my_pipe(holiday_payload)\n",
        "\n",
        "# show results\n",
        "print(\"non_holiday_pred\", non_holiday_pred)\n",
        "print(\"holiday_payload\", holiday_payload)"
      ],
      "metadata": {
        "colab": {
          "base_uri": "https://localhost:8080/"
        },
        "id": "aDR5kAx5pgmw",
        "outputId": "d8939015-5817-470d-a7da-7d050867e272"
      },
      "execution_count": null,
      "outputs": [
        {
          "output_type": "stream",
          "name": "stdout",
          "text": [
            "non_holiday_pred [{'label': 'joy', 'score': 0.9985942244529724}]\n",
            "holiday_payload [{'label': 'happy', 'score': 1}]\n"
          ]
        }
      ]
    },
    {
      "cell_type": "code",
      "source": [
        "# add all our new files\n",
        "!git add *\n",
        "# commit our files\n",
        "!git commit -m \"add custom pipeline\"\n",
        "# push the files to the hub\n",
        "!git push"
      ],
      "metadata": {
        "id": "e3mbg9Lvp4Ra"
      },
      "execution_count": null,
      "outputs": []
    }
  ]
}